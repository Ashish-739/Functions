{
  "nbformat": 4,
  "nbformat_minor": 0,
  "metadata": {
    "colab": {
      "provenance": []
    },
    "kernelspec": {
      "name": "python3",
      "display_name": "Python 3"
    },
    "language_info": {
      "name": "python"
    }
  },
  "cells": [
    {
      "cell_type": "code",
      "source": [],
      "metadata": {
        "id": "VnjR4bAXYJWj"
      },
      "execution_count": null,
      "outputs": []
    },
    {
      "cell_type": "markdown",
      "source": [
        "#Functions"
      ],
      "metadata": {
        "id": "rHTaIWFX2fhb"
      }
    },
    {
      "cell_type": "markdown",
      "source": [
        "#Theory Questions:"
      ],
      "metadata": {
        "id": "65uzcpAoX_31"
      }
    },
    {
      "cell_type": "code",
      "source": [
        "1:  What is the difference between a function and a method in Python?\n",
        "  - Functions:\n",
        "    - It is defined using def keyword\n",
        "    - It can take arrguments and returns values\n",
        "    - It is not associated with any specific object or class\n",
        "  - Method:\n",
        "    - It is defined inside the class and operate on the instance of the class\n",
        "    - Can modify or access object attribute\n",
        "    - The first parmeter of the object is usually self, which refers to the instance\n",
        "\n",
        "2:  Explain the concept of function arguments and parameters in Python?\n",
        "  - In python, Parameter and argunments are used to pass data to functions\n",
        "    - Parameters are the variables listed in the function defination\n",
        "    - Argunments are value passed to the function when called it\n",
        "  - Types of functions Parameter/Argunments\n",
        "    - Positional argunments\n",
        "     - The number of argunments must match the argunments\n",
        "    - Keyword argunments\n",
        "      - Improve readablity and remove confussion\n",
        "    - Default parameters\n",
        "      - Parameters can have the default values, which if no argunments will be passed\n",
        "    - Variables length argunments\n",
        "      - Allows passing multiple positional argunments as a tuple\n",
        "\n",
        "3: What are the different ways to define and call a function in Python?\n",
        "  - There are different ways to call a function:\n",
        "  - Regular function defination and call:\n",
        "    - The most common way to define a function is def keyword\n",
        "  - Function with default argunments:\n",
        "    - You can define functions with dafault values for parameters\n",
        "  - Function with *args:\n",
        "    - Use *args to accept multiple postional argunments as a tuple\n",
        "  - Function with **kwargs:\n",
        "    - Use **kwargs to accept multiple keyword argunments as a directory\n",
        "  - Lamda:\n",
        "   - A lamda function is a small, on-line anonymous function using the lamda keyword\n",
        "\n",
        "4: What is the purpose of the `return` statement in a Python function?\n",
        "  - The return statment in python is used to send a value from a function back to the caller.\n",
        "   It allows a function to output a result that can be used later.\n",
        "\n",
        "5:  What are iterators in Python and how do they differ from iterables?\n",
        "  - ANn iterator is an object that remembers its state during iteration.\n",
        "  It produces the next value when requested and stops when all value are exausted.\n",
        "  Difference:\n",
        "    - Iterator\n",
        "      - An object that remember state and return the next item.\n",
        "      - Usage of for loop are used\n",
        "      - Example - Object return by item\n",
        "    - Iterable\n",
        "      - An object that can return an iterator\n",
        "      - Usage of for loop are required\n",
        "      - Example - List, Tuple, String\n",
        "\n",
        "6:  Explain the concept of generators in Python and how they are defined?\n",
        "  - Generators in python are the special type of iterators that allows you to generate value lazily using the yeild keyword. They are useful to handle large amount of dataset efficiently because they does not store value in memory but produce them one at a time.\n",
        "  - A generator is defined like a normal function but uses yeild instead of return.\n",
        "\n",
        "7: What are the advantages of using generators over regular functions?\n",
        "  - Generators offers several benifits compared to regular fnnction, particularly in senerio involving large data processing and performance optimazation.\n",
        "  a: Memory Efficiency:\n",
        "    - A regular function that returns a list stores all elements in memory at once, which can be inefficient in large datasets.\n",
        "  b: Faster execution:\n",
        "    - Regular function compute everything before returing, while generators compute on demand.\n",
        "  c: Infinite sequence are possible:\n",
        "    - A regular function cannot return a infinite sequence because it run out of memeory.\n",
        "\n",
        "8: What is a lambda function in Python and when is it typically used?\n",
        "  - A lamdba function in python is an anonymous single expression function that is defined using the lambda keyword. It is often used for short single operation while defining a full function using def would be unnecessary.\n",
        "\n",
        "9: cExplain the purpose and usage of the `map()` function in Python?\n",
        "  - The map function in python applies a function to each time in an iterable and returns a new iterator with a modified result. It is useful when you want to transform data without writing the explict loops.\n",
        "\n",
        "10: What is the difference between `map()`, `reduce()`, and `filter()` functions in Python?\n",
        "  - Map:\n",
        "    - Purpose: Transform elements\n",
        "    - Input: Iterable\n",
        "    - Output: Iterable\n",
        "    - Usecase: Modify each element\n",
        "  - RReduce:\n",
        "    - Purpose: Aggregates elements\n",
        "    - Input: Iterable\n",
        "    - Output: Sinle value\n",
        "    - Usecase: Compute sum, product etc\n",
        "  - Filter:\n",
        "    - Purpose: Filters elements\n",
        "    - Input: Iterable\n",
        "    - Output: Filter iterable\n",
        "    - Usecase: Exact specific elements\n",
        "11. Using pen & Paper write the internal mechanism for sum operation using  reduce function on this given\n",
        "list:[47,11,42,13];\n",
        " --The reduce function from the functools module applies a binary function cumulatively to the items of an iterable.\n",
        "  For the list [47, 11, 42, 13], here's how it works for summation:\n",
        "  Internal Mechanism:\n",
        "Step 1: add(47, 11) → 58\n",
        "Step 2: add(58, 42) → 100\n",
        "Step 3: add(100, 13) → 113\n",
        "Final Result:\n",
        "The sum of the list is 113."
      ],
      "metadata": {
        "id": "KVrH6kcl2jkj"
      },
      "execution_count": null,
      "outputs": []
    },
    {
      "cell_type": "markdown",
      "source": [
        "#Practical Questions:\n"
      ],
      "metadata": {
        "id": "x9WldKCoYTQn"
      }
    },
    {
      "cell_type": "code",
      "source": [
        "# 1: Write a Python function that takes a list of numbers as input and returns the sum of all even numbers in the list?\n",
        "def sum_of_even(numbers):\n",
        "  return sum(num for num in numbers if num % 2 == 0)\n",
        "number_list = [1,2,3,4,5,6,7,8,9,10]\n",
        "result = sum_of_even(number_list)\n",
        "print(\"The  sum of even is:\", result)"
      ],
      "metadata": {
        "colab": {
          "base_uri": "https://localhost:8080/"
        },
        "id": "RBy0AkqPYZkw",
        "outputId": "079c8753-9a1a-47de-c068-0fbe57ff0a04"
      },
      "execution_count": 1,
      "outputs": [
        {
          "output_type": "stream",
          "name": "stdout",
          "text": [
            "The  sum of even is: 30\n"
          ]
        }
      ]
    },
    {
      "cell_type": "code",
      "source": [
        "# 2: Create a Python function that accepts a string and returns the reverse of that string?\n",
        "def reverse_string(s):\n",
        "  return s[::-1]\n",
        "text = \"Ronit prasad\"\n",
        "result = reverse_string(text)\n",
        "print(\"String Reverse is:\", result)"
      ],
      "metadata": {
        "colab": {
          "base_uri": "https://localhost:8080/"
        },
        "id": "AlNJ0EpkYgGM",
        "outputId": "808c4a07-9360-42c3-82d2-0874edee77be"
      },
      "execution_count": 2,
      "outputs": [
        {
          "output_type": "stream",
          "name": "stdout",
          "text": [
            "String Reverse is: dasarp tinoR\n"
          ]
        }
      ]
    },
    {
      "cell_type": "code",
      "source": [
        "# 3:  Implement a Python function that takes a list of integers and returns a new list containing the squares of each number?\n",
        "def square_numbers(number):\n",
        "  return list(map(lambda x: x**2, number))\n",
        "print(square_numbers([2,10,20,5,6,7]))"
      ],
      "metadata": {
        "colab": {
          "base_uri": "https://localhost:8080/"
        },
        "id": "yArnGHcXYjKN",
        "outputId": "473f9de5-0b5b-4e2a-d5b3-77d2be260dd0"
      },
      "execution_count": 3,
      "outputs": [
        {
          "output_type": "stream",
          "name": "stdout",
          "text": [
            "[4, 100, 400, 25, 36, 49]\n"
          ]
        }
      ]
    },
    {
      "cell_type": "code",
      "source": [
        "# 4: Write a Python function that checks if a given number is prime or not from 1 to 200?\n",
        "def is_prime(n):\n",
        "  if n < 2:\n",
        "    return False\n",
        "  for i in range(2, int(n ** 0.5) + 1):\n",
        "    if n % i == 0:\n",
        "      return False\n",
        "  return True\n",
        "prime_number = [num for num in range(1,201) if is_prime(num)]\n",
        "print(\"The prime number's are:\", prime_number)"
      ],
      "metadata": {
        "colab": {
          "base_uri": "https://localhost:8080/"
        },
        "id": "NYEYK4xHYoAZ",
        "outputId": "54a0781e-4f68-4200-bb94-1cb0055ccebe"
      },
      "execution_count": 4,
      "outputs": [
        {
          "output_type": "stream",
          "name": "stdout",
          "text": [
            "The prime number's are: [2, 3, 5, 7, 11, 13, 17, 19, 23, 29, 31, 37, 41, 43, 47, 53, 59, 61, 67, 71, 73, 79, 83, 89, 97, 101, 103, 107, 109, 113, 127, 131, 137, 139, 149, 151, 157, 163, 167, 173, 179, 181, 191, 193, 197, 199]\n"
          ]
        }
      ]
    },
    {
      "cell_type": "code",
      "source": [
        "# 5:  Create an iterator class in Python that generates the Fibonacci sequence up to a specified number of terms?\n",
        "class FibonacciIterator:\n",
        "    def __init__(self, num_terms):\n",
        "        self.num_terms = num_terms\n",
        "        self.a, self.b = 0, 1\n",
        "        self.count = 0\n",
        "\n",
        "    def __iter__(self):\n",
        "        return self\n",
        "\n",
        "    def __next__(self):\n",
        "        if self.count >= self.num_terms:\n",
        "            raise StopIteration\n",
        "\n",
        "        if self.count == 0:\n",
        "            result = 0\n",
        "        elif self.count == 1:\n",
        "            result = 1\n",
        "        else:\n",
        "            result = self.a + self.b\n",
        "            self.a, self.b = self.b, result\n",
        "\n",
        "        self.count += 1\n",
        "        return result\n",
        "fib_iterator = FibonacciIterator(10)\n",
        "for num in fib_iterator:\n",
        "    print(num, end=\" \")\n"
      ],
      "metadata": {
        "colab": {
          "base_uri": "https://localhost:8080/"
        },
        "id": "ZkLS4HzLYqRn",
        "outputId": "a0fd7dcd-c4fa-4060-a9df-e61ed9f4c94c"
      },
      "execution_count": 5,
      "outputs": [
        {
          "output_type": "stream",
          "name": "stdout",
          "text": [
            "0 1 1 2 3 5 8 13 21 34 "
          ]
        }
      ]
    },
    {
      "cell_type": "code",
      "source": [
        "# 6: Write a generator function in Python that yields the powers of 2 up to a given exponent?\n",
        "def power_of_exponent(max_exponent):\n",
        "  for exp in range(max_exponent + 1):\n",
        "    yield 2 ** exp\n",
        "for power in power_of_exponent(5):\n",
        "  print(power, end= \"\")"
      ],
      "metadata": {
        "colab": {
          "base_uri": "https://localhost:8080/"
        },
        "id": "vMDBorY7YtOv",
        "outputId": "1682bd4a-9541-4a35-ffa6-1c5126f88e08"
      },
      "execution_count": 6,
      "outputs": [
        {
          "output_type": "stream",
          "name": "stdout",
          "text": [
            "12481632"
          ]
        }
      ]
    },
    {
      "source": [
        "# 7: Implement a generator function that reads a file line by line and yields each line as a string?\n",
        "def read_file(filename):\n",
        "  # Check if the file exists before opening it.\n",
        "  try:\n",
        "    with open(filename, 'r', encoding='utf-8') as file:\n",
        "      for line in file:\n",
        "        yield line.strip()\n",
        "  except FileNotFoundError:\n",
        "    print(f\"Error: File '{filename}' not found.\")\n",
        "\n",
        "file_path = \"sample.txt\"\n",
        "# Call the generator and handle potential FileNotFoundError\n",
        "for line in read_file(file_path):\n",
        "  print(line)"
      ],
      "cell_type": "code",
      "metadata": {
        "colab": {
          "base_uri": "https://localhost:8080/"
        },
        "id": "cZTecoboY7dR",
        "outputId": "57367363-491d-40b0-beaa-e1873c76c475"
      },
      "execution_count": 8,
      "outputs": [
        {
          "output_type": "stream",
          "name": "stdout",
          "text": [
            "Error: File 'sample.txt' not found.\n"
          ]
        }
      ]
    },
    {
      "cell_type": "code",
      "source": [
        "# 8: Use a lambda function in Python to sort a list of tuples based on the second element of each tuple?\n",
        "tuples_list = [(1,5),(5,3),(6,8),(8,9)]\n",
        "sorted_list = sorted(tuples_list, key=lambda x: x[1])\n",
        "print(\"The sorted list are:\", sorted_list)"
      ],
      "metadata": {
        "colab": {
          "base_uri": "https://localhost:8080/"
        },
        "id": "EDaz0zCDYzzy",
        "outputId": "81610cf7-eea1-44b3-a0ec-54144f9f3277"
      },
      "execution_count": 9,
      "outputs": [
        {
          "output_type": "stream",
          "name": "stdout",
          "text": [
            "The sorted list are: [(5, 3), (1, 5), (6, 8), (8, 9)]\n"
          ]
        }
      ]
    },
    {
      "cell_type": "code",
      "source": [
        "# 9:  Write a Python program that uses `map()` to convert a list of temperatures from Celsius to Fahrenheit?\n",
        "def Celsius_to_fahrenheit(celsius):\n",
        "  return (celsius * 9/5) + 32\n",
        "celsius_temp = [10,23,56,50,89,80]\n",
        "fahrenheit_temp = list(map(Celsius_to_fahrenheit, celsius_temp))\n",
        "print(\"Celsius temperature\", celsius_temp)\n",
        "print(\"Fahrenheit temperture\", fahrenheit_temp)"
      ],
      "metadata": {
        "colab": {
          "base_uri": "https://localhost:8080/"
        },
        "id": "h0-cLxanZHSx",
        "outputId": "867aab3c-b2bd-4a80-ad37-d619b32dd410"
      },
      "execution_count": 10,
      "outputs": [
        {
          "output_type": "stream",
          "name": "stdout",
          "text": [
            "Celsius temperature [10, 23, 56, 50, 89, 80]\n",
            "Fahrenheit temperture [50.0, 73.4, 132.8, 122.0, 192.2, 176.0]\n"
          ]
        }
      ]
    },
    {
      "cell_type": "code",
      "source": [
        "# 10: Create a Python program that uses `filter()` to remove all the vowels from a given string?\n",
        "def remove_vowels(string):\n",
        "  vowels = \"aeiouAEIOU\"\n",
        "  return \"\".join(filter(lambda char: char not in vowels, string))\n",
        "\n",
        "input_string = \"Ronit, prasad\"\n",
        "result = remove_vowels(input_string)\n",
        "\n",
        "print(\"Orginal string\", input_string)\n",
        "print(\"String without vowels:\", result)"
      ],
      "metadata": {
        "colab": {
          "base_uri": "https://localhost:8080/"
        },
        "id": "f8TuyAfyZJdp",
        "outputId": "5af79059-1c9d-4957-9796-37cda7947e43"
      },
      "execution_count": 11,
      "outputs": [
        {
          "output_type": "stream",
          "name": "stdout",
          "text": [
            "Orginal string Ronit, prasad\n",
            "String without vowels: Rnt, prsd\n"
          ]
        }
      ]
    },
    {
      "cell_type": "code",
      "source": [
        "# 11:  Imagine an accounting routine used in a book shop. It works on a list with sublists, which look like this: Write a Python program, which returns a list with 2-tuples. Each tuple consists of the order number and the\n",
        "# product of the price per item and the quantity. The product should be increased by 10,- € if the value of the\n",
        "# order is smaller than 100,00 €. Write a Python program using lambda and map.\n",
        "\n",
        "orders = [\n",
        "    [\"A123\", 15.0, 5],\n",
        "    [\"B456\", 25.0, 2],\n",
        "    [\"C789\", 50.0, 3],\n",
        "    [\"D101\", 10.0, 7]\n",
        "]\n",
        "\n",
        "\n",
        "calculate_price = lambda order: (order[0], (order[1] * order[2]) + (10 if (order[1] * order[2]) < 100 else 0))\n",
        "final_orders = list(map(calculate_price, orders))\n",
        "\n",
        "print(final_orders)\n"
      ],
      "metadata": {
        "colab": {
          "base_uri": "https://localhost:8080/"
        },
        "id": "b2GqUGFLZLnb",
        "outputId": "2126085e-87ab-48b7-e0bc-ab40443fef0e"
      },
      "execution_count": 12,
      "outputs": [
        {
          "output_type": "stream",
          "name": "stdout",
          "text": [
            "[('A123', 85.0), ('B456', 60.0), ('C789', 150.0), ('D101', 80.0)]\n"
          ]
        }
      ]
    },
    {
      "cell_type": "code",
      "source": [],
      "metadata": {
        "id": "ZeRolK3yZOOT"
      },
      "execution_count": null,
      "outputs": []
    }
  ]
}